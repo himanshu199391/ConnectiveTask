{
 "cells": [
  {
   "cell_type": "code",
   "execution_count": 1,
   "metadata": {},
   "outputs": [],
   "source": [
    "import pandas as pd"
   ]
  },
  {
   "cell_type": "code",
   "execution_count": 2,
   "metadata": {},
   "outputs": [],
   "source": [
    "df = pd.read_csv(\"final.csv\")"
   ]
  },
  {
   "cell_type": "code",
   "execution_count": 4,
   "metadata": {},
   "outputs": [],
   "source": [
    "y = df['Sedol'].unique()"
   ]
  },
  {
   "cell_type": "code",
   "execution_count": 6,
   "metadata": {},
   "outputs": [
    {
     "data": {
      "text/plain": [
       "489"
      ]
     },
     "execution_count": 6,
     "metadata": {},
     "output_type": "execute_result"
    }
   ],
   "source": [
    "len(y)"
   ]
  },
  {
   "cell_type": "code",
   "execution_count": 7,
   "metadata": {},
   "outputs": [],
   "source": [
    "dfg = pd.read_csv(\"SEDOL sample.csv\")"
   ]
  },
  {
   "cell_type": "code",
   "execution_count": 9,
   "metadata": {},
   "outputs": [],
   "source": [
    "z = dfg['SEDOL'].unique()"
   ]
  },
  {
   "cell_type": "code",
   "execution_count": 10,
   "metadata": {},
   "outputs": [
    {
     "data": {
      "text/plain": [
       "533"
      ]
     },
     "execution_count": 10,
     "metadata": {},
     "output_type": "execute_result"
    }
   ],
   "source": [
    "len(z)"
   ]
  },
  {
   "cell_type": "code",
   "execution_count": 12,
   "metadata": {},
   "outputs": [
    {
     "name": "stdout",
     "output_type": "stream",
     "text": [
      "492793\n",
      "2195380\n",
      "BFTDG62\n",
      "B0137J5\n",
      "B035142\n",
      "B00LQ37\n",
      "6185343\n",
      "677608\n",
      "945736\n",
      "4466802\n",
      "B4W9381\n",
      "6496368\n",
      "2312060\n",
      "737007\n",
      "B28XTG3\n",
      "2740315\n",
      "B65JD59\n",
      "6743473\n",
      "BVF9L16\n",
      "BNH63H9\n",
      "2269490\n",
      "BDZWWD8\n",
      "BYZKG48\n",
      "2798518\n",
      "3426454\n",
      "BD10474\n",
      "B1WJ4X2\n",
      "B4RCHB6\n",
      "BMH4NV0\n",
      "BJWQ105\n",
      "408284\n",
      "BYYMK65\n",
      "BNH7RS1\n",
      "B104HH4\n",
      "2619750\n",
      "2391445\n",
      "B1WT4G5\n",
      "BYVDB57\n",
      "BD9P7D8\n",
      "B4KKMM3\n",
      "B400R62\n",
      "B4Q3G02\n",
      "BD9H4R7\n",
      "HBORW1\n"
     ]
    }
   ],
   "source": [
    "for x in z:\n",
    "    if x not in y:\n",
    "        print(x)"
   ]
  },
  {
   "cell_type": "code",
   "execution_count": null,
   "metadata": {},
   "outputs": [],
   "source": []
  }
 ],
 "metadata": {
  "kernelspec": {
   "display_name": "Python 3",
   "language": "python",
   "name": "python3"
  },
  "language_info": {
   "codemirror_mode": {
    "name": "ipython",
    "version": 3
   },
   "file_extension": ".py",
   "mimetype": "text/x-python",
   "name": "python",
   "nbconvert_exporter": "python",
   "pygments_lexer": "ipython3",
   "version": "3.7.4"
  }
 },
 "nbformat": 4,
 "nbformat_minor": 2
}
